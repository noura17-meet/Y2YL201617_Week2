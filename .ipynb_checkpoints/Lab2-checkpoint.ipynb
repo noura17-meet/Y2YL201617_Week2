{
 "cells": [
  {
   "cell_type": "markdown",
   "metadata": {},
   "source": [
    "# Week 2 Activity"
   ]
  },
  {
   "cell_type": "markdown",
   "metadata": {},
   "source": [
    "Please write your names here:  "
   ]
  },
  {
   "cell_type": "markdown",
   "metadata": {},
   "source": [
    "__Paste the solution for your warm-up exercise here:__"
   ]
  },
  {
   "cell_type": "code",
   "execution_count": null,
   "metadata": {
    "collapsed": true
   },
   "outputs": [],
   "source": []
  },
  {
   "cell_type": "markdown",
   "metadata": {},
   "source": [
    "## Question 1:  What is the difference between a startup and a company?  "
   ]
  },
  {
   "cell_type": "markdown",
   "metadata": {},
   "source": []
  },
  {
   "cell_type": "markdown",
   "metadata": {},
   "source": [
    "## Question 2: Do Some Research- What are some other reasons that startups fail? Show some statistics and cite your resources"
   ]
  },
  {
   "cell_type": "markdown",
   "metadata": {},
   "source": []
  },
  {
   "cell_type": "markdown",
   "metadata": {},
   "source": [
    "# Part 2: Automation with Python"
   ]
  },
  {
   "cell_type": "markdown",
   "metadata": {},
   "source": [
    "_Skim through Chapter 17 (pages 387-400) in [\"Automate the Boring Stuff with Python\"](https://drive.google.com/open?id=0B93BAIhSTZr0dFdERUJZbHRzSmc) as reference for these exercises_ "
   ]
  },
  {
   "cell_type": "markdown",
   "metadata": {},
   "source": [
    "## Step 1:  Colors & RGBA Values\n",
    "Using the Image class from the PIL library, make a solid fuchsia image that is 300 x 400 pixels and display it below."
   ]
  },
  {
   "cell_type": "code",
   "execution_count": null,
   "metadata": {
    "collapsed": false
   },
   "outputs": [],
   "source": []
  },
  {
   "cell_type": "markdown",
   "metadata": {},
   "source": [
    "## Step 2:  Manipulating Images \n",
    "* __Snap a selfie with you and your partner and email it to yourself__\n",
    "* __Open it and save it in the Week 2 folder as \"friends.jpg(or .png)\"__\n",
    "* __Try and execute the code below to see if you can open your image with Pillow__"
   ]
  },
  {
   "cell_type": "code",
   "execution_count": null,
   "metadata": {
    "collapsed": true
   },
   "outputs": [],
   "source": []
  },
  {
   "cell_type": "markdown",
   "metadata": {},
   "source": [
    "### Cropping Images\n",
    "Crop the image such that only your faces are in the picture. Show the cropped image in your ipython notebook"
   ]
  },
  {
   "cell_type": "code",
   "execution_count": null,
   "metadata": {
    "collapsed": true
   },
   "outputs": [],
   "source": []
  },
  {
   "cell_type": "markdown",
   "metadata": {},
   "source": [
    "### Image Patterns\n",
    "Use a nested for loop similar to the one on page 396 to create a repeated pattern of your team selfie and save it as \"2friends.jpg(or .png)\""
   ]
  },
  {
   "cell_type": "code",
   "execution_count": null,
   "metadata": {
    "collapsed": true
   },
   "outputs": [],
   "source": []
  },
  {
   "cell_type": "markdown",
   "metadata": {},
   "source": [
    "### Flip, Rotate, & Resize\n",
    "\n",
    "Use the examples on pages 398-400.\n",
    "\n",
    "* __ Learn how to flip your image 90 and 180 degrees.__  \n",
    "\n",
    "* __ Resize your image such that it is 300 x 300 pixels __\n",
    "\n",
    "* __Create a function called _FlipImage(path,degrees)_ that takes an image file path and an integer as inputs and will rotate the image by the specified degree amount__"
   ]
  },
  {
   "cell_type": "code",
   "execution_count": null,
   "metadata": {
    "collapsed": true
   },
   "outputs": [],
   "source": []
  },
  {
   "cell_type": "markdown",
   "metadata": {},
   "source": [
    "## Step 3:  Adding a Logo\n",
    "Inside your repository you have a folder full of different versions of the MEET logo. Choose a logo and add it to your image. "
   ]
  },
  {
   "cell_type": "code",
   "execution_count": null,
   "metadata": {
    "collapsed": true
   },
   "outputs": [],
   "source": []
  },
  {
   "cell_type": "markdown",
   "metadata": {},
   "source": [
    "## Extra Credit 1: Making Filters\n",
    "Do some research and see if you can create some Snapchat-like filters for your images.  Show your results below"
   ]
  },
  {
   "cell_type": "code",
   "execution_count": null,
   "metadata": {
    "collapsed": true
   },
   "outputs": [],
   "source": []
  },
  {
   "cell_type": "markdown",
   "metadata": {},
   "source": [
    "## Extra Credit 2:  Drawing on Images\n",
    "Add shapes and fun stickers on top of your images as well"
   ]
  },
  {
   "cell_type": "code",
   "execution_count": null,
   "metadata": {
    "collapsed": true
   },
   "outputs": [],
   "source": []
  },
  {
   "cell_type": "markdown",
   "metadata": {},
   "source": [
    "## Extra Credit 3:  Batch Image Processing\n",
    "\n",
    "Say you have the boring job of resizing thousands of images and adding a small logo watermark to the corner of each. Doing this with a basic graphics program such as Paintbrush or Paint would take forever. A fancier graphics application such as Photoshop can do batch processing, but that software costs hundreds of dollars. Let’s write a script to do it instead.\n",
    "Say that you want to add to a random meet logo to the bottom-right corner of each image\n",
    "\n",
    "At a high level, here’s what the program should do:\n",
    "* Load the logo image.\n",
    "* Loop over all .png and.jpg  les in the working directory.\n",
    "* Check whether the image is wider or taller than 300 pixels.\n",
    "* If so, reduce the width or height (whichever is larger) to 300 pixels and scale down the other dimension proportionally.\n",
    "* Paste the logo image into the corner.\n",
    "* Save the altered images to another folder.\n",
    "\n",
    "\n",
    "This means the code will need to do the following:\n",
    "* Open the meet logo as an Image object.\n",
    "* Loop over the strings returned from os.listdir('.').\n",
    "* Get the width and height of the image from the size attribute.\n",
    "* Calculate the new width and height of the resized image.\n",
    "* Call the resize() method to resize the image.\n",
    "* Call the paste() method to paste the logo.\n",
    "* Call the save() method to save the changes, using the original name.\n",
    "\n",
    "Get some of your classmates to share some different images with you so you can test out your new automation tool."
   ]
  },
  {
   "cell_type": "markdown",
   "metadata": {},
   "source": [
    "_Please remember to save your work, commit, push, and pull request, and clean up anything you downloaded onto the desktop_"
   ]
  }
 ],
 "metadata": {
  "anaconda-cloud": {},
  "kernelspec": {
   "display_name": "Python [Root]",
   "language": "python",
   "name": "Python [Root]"
  },
  "language_info": {
   "codemirror_mode": {
    "name": "ipython",
    "version": 3
   },
   "file_extension": ".py",
   "mimetype": "text/x-python",
   "name": "python",
   "nbconvert_exporter": "python",
   "pygments_lexer": "ipython3",
   "version": "3.5.2"
  }
 },
 "nbformat": 4,
 "nbformat_minor": 0
}
